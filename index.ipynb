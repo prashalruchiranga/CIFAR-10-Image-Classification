{
 "cells": [
  {
   "cell_type": "code",
   "execution_count": 132,
   "id": "a280d969-c827-4027-97ab-10743ce7173f",
   "metadata": {},
   "outputs": [],
   "source": [
    "import pandas as pd\n",
    "import numpy as np\n",
    "import tensorflow as tf\n",
    "from tensorflow import keras\n",
    "import matplotlib.pyplot as plt\n",
    "import glob "
   ]
  },
  {
   "cell_type": "code",
   "execution_count": 2,
   "id": "d47774ad-70fc-49ce-9e4d-cdf818167833",
   "metadata": {},
   "outputs": [],
   "source": [
    "def unpickle(file):\n",
    "    import pickle\n",
    "    with open(file, 'rb') as fo:\n",
    "        dict = pickle.load(fo, encoding='bytes')\n",
    "    return dict"
   ]
  },
  {
   "cell_type": "code",
   "execution_count": 155,
   "id": "258763ed-91fb-4716-9493-f9ecbd76f432",
   "metadata": {},
   "outputs": [],
   "source": [
    "data_batches = glob.glob('cifar-10-batches-py/data_batch_*')\n",
    "data, labels = [], []\n",
    "for batch in data_batches:\n",
    "    data.append(unpickle(batch)[b'data'])\n",
    "    labels.append(unpickle(batch)[b'labels'])\n",
    "    \n",
    "X_full = np.concatenate(data, axis=0)\n",
    "y_full = np.concatenate(labels, axis=0)\n",
    "X_test = unpickle('cifar-10-batches-py/test_batch')[b'data']\n",
    "y_test = unpickle('cifar-10-batches-py/test_batch')[b'labels']"
   ]
  },
  {
   "cell_type": "code",
   "execution_count": 163,
   "id": "401ef4a7-8128-4835-9a06-f00da8444322",
   "metadata": {},
   "outputs": [],
   "source": [
    "def construct_img(arr):\n",
    "    return np.stack(np.split(arr, 3), axis=-1).reshape((32, 32, 3))\n",
    "\n",
    "img_0 = construct_img(X_full[0])\n",
    "img_1 = construct_img(X_full[1])\n",
    "img_2 = construct_img(X_full[2])"
   ]
  },
  {
   "cell_type": "code",
   "execution_count": 164,
   "id": "08c21181-17b0-4b26-9f64-2336820c4188",
   "metadata": {},
   "outputs": [
    {
     "data": {
      "image/png": "[encoded data removed]",
      "text/plain": [
       "<Figure size 1200x1200 with 3 Axes>"
      ]
     },
     "metadata": {},
     "output_type": "display_data"
    }
   ],
   "source": [
    "fig, ax = plt.subplots(1, 3, figsize=(12, 12))\n",
    "ax[0].imshow(img_0)\n",
    "ax[1].imshow(img_1)\n",
    "ax[2].imshow(img_2)\n",
    "ax[0].axis('off')\n",
    "ax[1].axis('off')\n",
    "ax[2].axis('off')\n",
    "plt.show()"
   ]
  },
  {
   "cell_type": "code",
   "execution_count": null,
   "id": "bb7433d4-7dff-4132-9f2e-b3e70a3c069d",
   "metadata": {},
   "outputs": [],
   "source": []
  }
 ],
 "metadata": {
  "kernelspec": {
   "display_name": "Python 3 (ipykernel)",
   "language": "python",
   "name": "python3"
  },
  "language_info": {
   "codemirror_mode": {
    "name": "ipython",
    "version": 3
   },
   "file_extension": ".py",
   "mimetype": "text/x-python",
   "name": "python",
   "nbconvert_exporter": "python",
   "pygments_lexer": "ipython3",
   "version": "3.10.13"
  }
 },
 "nbformat": 4,
 "nbformat_minor": 5
}
