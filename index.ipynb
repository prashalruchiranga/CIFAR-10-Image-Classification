{
 "cells": [
  {
   "cell_type": "markdown",
   "id": "e5c243cd-c324-41e7-94e4-a54f41acf68d",
   "metadata": {},
   "source": [
    "##### Import required libraries"
   ]
  },
  {
   "cell_type": "code",
   "execution_count": 1,
   "id": "a280d969-c827-4027-97ab-10743ce7173f",
   "metadata": {},
   "outputs": [],
   "source": [
    "import pandas as pd\n",
    "import numpy as np\n",
    "import tensorflow as tf\n",
    "from tensorflow import keras\n",
    "import matplotlib.pyplot as plt\n",
    "import glob \n",
    "from sklearn.model_selection import train_test_split"
   ]
  },
  {
   "cell_type": "markdown",
   "id": "f88b0962-bd63-4c55-a7a0-f53507cba996",
   "metadata": {},
   "source": [
    "##### Load the dataset"
   ]
  },
  {
   "cell_type": "code",
   "execution_count": 2,
   "id": "d1a0fa3d-1dd0-4033-9ce7-488929f524be",
   "metadata": {},
   "outputs": [],
   "source": [
    "def unpickle(file):\n",
    "    import pickle\n",
    "    with open(file, 'rb') as fo:\n",
    "        dict = pickle.load(fo, encoding='bytes')\n",
    "    return dict\n",
    "\n",
    "def construct_img(arr):\n",
    "    return np.stack(np.split(arr, 3), axis=-1).reshape((32, 32, 3))\n",
    "    \n",
    "def unflatten_data(data):\n",
    "    images = []\n",
    "    for item in list(data):\n",
    "        images.append(construct_img(item))\n",
    "    return np.stack(images, axis=0)"
   ]
  },
  {
   "cell_type": "code",
   "execution_count": 3,
   "id": "258763ed-91fb-4716-9493-f9ecbd76f432",
   "metadata": {},
   "outputs": [],
   "source": [
    "data_batches = glob.glob('cifar-10-batches-py/data_batch_*')\n",
    "data, labels = [], []\n",
    "\n",
    "for batch in data_batches:\n",
    "    data.append(unpickle(batch)[b'data'])\n",
    "    labels.append(unpickle(batch)[b'labels'])\n",
    "\n",
    "X_full_flattened = np.concatenate(data, axis=0)\n",
    "X_full = unflatten_data(X_full_flattened)\n",
    "y_full = np.concatenate(labels, axis=0)\n",
    "X_test_flattened = unpickle('cifar-10-batches-py/test_batch')[b'data']\n",
    "X_test = unflatten_data(X_test_flattened)\n",
    "y_test = np.array(unpickle('cifar-10-batches-py/test_batch')[b'labels'])\n",
    "\n",
    "X_train, X_valid, y_train, y_valid = train_test_split(X_full, y_full, train_size=0.7, random_state=42)"
   ]
  },
  {
   "cell_type": "code",
   "execution_count": 4,
   "id": "6772cd83-b401-4d0b-9c0f-a2ca0dc72ccd",
   "metadata": {},
   "outputs": [],
   "source": [
    "### Scale pixel values\n",
    "X_train = X_train / 255\n",
    "X_valid = X_valid / 255\n",
    "X_test = X_test / 255"
   ]
  },
  {
   "cell_type": "markdown",
   "id": "6fcc11f8-6174-46f4-a05d-79d6d31e9c4e",
   "metadata": {},
   "source": [
    "##### Display sample images"
   ]
  },
  {
   "cell_type": "code",
   "execution_count": 5,
   "id": "50d76421-655f-4b7a-b6ea-600efc9bb1fb",
   "metadata": {},
   "outputs": [
    {
     "data": {
      "image/png": "[encoded data removed]",
      "text/plain": [
       "<Figure size 1200x1200 with 3 Axes>"
      ]
     },
     "metadata": {},
     "output_type": "display_data"
    }
   ],
   "source": [
    "img_0 = X_train[45]\n",
    "img_1 = X_train[3]\n",
    "img_2 = X_train[267]\n",
    "\n",
    "fig, ax = plt.subplots(1, 3, figsize=(12, 12))\n",
    "ax[0].imshow(img_0)\n",
    "ax[1].imshow(img_1)\n",
    "ax[2].imshow(img_2)\n",
    "ax[0].axis('off')\n",
    "ax[1].axis('off')\n",
    "ax[2].axis('off')\n",
    "plt.show()"
   ]
  },
  {
   "cell_type": "markdown",
   "id": "1993d620-6cd2-468d-b9db-9f7645c5caf2",
   "metadata": {},
   "source": [
    "##### Build the model"
   ]
  },
  {
   "cell_type": "code",
   "execution_count": 23,
   "id": "9eb0e367-460d-45be-9d72-2bf8b999df97",
   "metadata": {},
   "outputs": [],
   "source": [
    "from keras.layers import Input, Dense, Lambda, Flatten, Conv2D, MaxPooling2D\n",
    "from keras import Model\n",
    "\n",
    "img_dim = (32, 32, 3)\n",
    "kernel_size = (3, 3)\n",
    "pool_size = (2, 2)\n",
    "\n",
    "input_ = Input(shape=X_train.shape[1:], name='input_layer')\n",
    "conv2d_1 = Conv2D(filters=32, kernel_size=kernel_size, activation='relu', name='conv_layer_1')(input_)\n",
    "pooling_1 = MaxPooling2D(pool_size=pool_size, name='pooling_payer_1')(conv2d_1)\n",
    "conv2d_2 = Conv2D(filters=64, kernel_size=kernel_size, activation='relu', name='conv_layer_2')(pooling_1)\n",
    "pooling_2 = MaxPooling2D(pool_size=pool_size, name='pooling_layer_2')(conv2d_2)\n",
    "flatten = Flatten(name='flatten_layer')(pooling_2)\n",
    "dense = Dense(100, activation='relu', name='fully_connected_layer')(flatten)\n",
    "output = Dense(10, activation='softmax', name='output_layer')(dense)\n",
    "model = Model(inputs=[input_], outputs=[output])"
   ]
  },
  {
   "cell_type": "code",
   "execution_count": 24,
   "id": "09567a68-fab4-4d70-8b88-0a6638529ed1",
   "metadata": {},
   "outputs": [
    {
     "name": "stdout",
     "output_type": "stream",
     "text": [
      "Model: \"model_7\"\n",
      "_________________________________________________________________\n",
      " Layer (type)                Output Shape              Param #   \n",
      "=================================================================\n",
      " input_layer (InputLayer)    [(None, 32, 32, 3)]       0         \n",
      "                                                                 \n",
      " conv_layer_1 (Conv2D)       (None, 30, 30, 32)        896       \n",
      "                                                                 \n",
      " pooling_payer_1 (MaxPoolin  (None, 15, 15, 32)        0         \n",
      " g2D)                                                            \n",
      "                                                                 \n",
      " conv_layer_2 (Conv2D)       (None, 13, 13, 64)        18496     \n",
      "                                                                 \n",
      " pooling_layer_2 (MaxPoolin  (None, 6, 6, 64)          0         \n",
      " g2D)                                                            \n",
      "                                                                 \n",
      " flatten_layer (Flatten)     (None, 2304)              0         \n",
      "                                                                 \n",
      " fully_connected_layer (Den  (None, 100)               230500    \n",
      " se)                                                             \n",
      "                                                                 \n",
      " output_layer (Dense)        (None, 10)                1010      \n",
      "                                                                 \n",
      "=================================================================\n",
      "Total params: 250902 (980.09 KB)\n",
      "Trainable params: 250902 (980.09 KB)\n",
      "Non-trainable params: 0 (0.00 Byte)\n",
      "_________________________________________________________________\n"
     ]
    }
   ],
   "source": [
    "model.summary()"
   ]
  },
  {
   "cell_type": "code",
   "execution_count": null,
   "id": "2e956ebb-a0f5-4f6b-85e2-91d69b9cbf54",
   "metadata": {},
   "outputs": [],
   "source": []
  }
 ],
 "metadata": {
  "kernelspec": {
   "display_name": "Python 3 (ipykernel)",
   "language": "python",
   "name": "python3"
  },
  "language_info": {
   "codemirror_mode": {
    "name": "ipython",
    "version": 3
   },
   "file_extension": ".py",
   "mimetype": "text/x-python",
   "name": "python",
   "nbconvert_exporter": "python",
   "pygments_lexer": "ipython3",
   "version": "3.10.13"
  }
 },
 "nbformat": 4,
 "nbformat_minor": 5
}
